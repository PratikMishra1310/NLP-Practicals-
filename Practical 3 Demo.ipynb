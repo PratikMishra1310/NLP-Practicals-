{
 "cells": [
  {
   "cell_type": "code",
   "execution_count": 1,
   "id": "d208107f",
   "metadata": {},
   "outputs": [],
   "source": [
    "#Natural Language ToolKit\n",
    "import nltk\n",
    "paragraph =  \"\"\"Sabeena met Homai to shoot her documentary Three Women and a Camera in 1997, \n",
    "                and ended up uncovering a feminist history of Indian nation building rarely seen, never heard, \n",
    "                and lovingly told in the Camera Chronicles of Homai Vyarawalla. “Homai lived a quiet retired \n",
    "                life for 23 years and she took all the success in the same philosophical way as she took the anonymity,” \n",
    "                says Sabeena, eight years after Homai’s passing. “The film was only the beginning of a long association \n",
    "                with Homai. We wrote letters to each other, I would travel to Baroda every few month to look at her \n",
    "                photographs and to try and understand the person behind these images.\"\"\""
   ]
  },
  {
   "cell_type": "code",
   "execution_count": 2,
   "id": "d040be68",
   "metadata": {},
   "outputs": [],
   "source": [
    "#Random Re\n",
    "import re\n",
    "#corpus=collection of authentic text or audio organized into dataset\n",
    "#stopwords=is common words do not carry significant meaning in text.\n",
    "from nltk.corpus import stopwords\n",
    "#porterstemmer used to remove suffixes from english word\n",
    "from nltk.stem.porter import PorterStemmer\n",
    "#WordNetLemmatizer reduce the word better to its root words or good\n",
    "from nltk.stem import WordNetLemmatizer"
   ]
  },
  {
   "cell_type": "code",
   "execution_count": 3,
   "id": "7556f0e1",
   "metadata": {},
   "outputs": [
    {
     "name": "stderr",
     "output_type": "stream",
     "text": [
      "[nltk_data] Downloading package wordnet to\n",
      "[nltk_data]     C:\\Users\\abhij\\AppData\\Roaming\\nltk_data...\n",
      "[nltk_data]   Package wordnet is already up-to-date!\n"
     ]
    }
   ],
   "source": [
    "import nltk\n",
    "nltk.download('wordnet')\n",
    "ps = PorterStemmer()\n",
    "wordnet=WordNetLemmatizer()\n",
    "#Tokenizer is the process of breaking down sequence of text into smaller units\n",
    "sentences = nltk.sent_tokenize(paragraph)\n",
    "corpus = []\n",
    "for i in range(len(sentences)):\n",
    "    review = re.sub('[^a-zA-Z]', ' ', sentences[i])\n",
    "    review = review.lower()\n",
    "    review = review.split()\n",
    "    review = [wordnet.lemmatize(word) for word in review if not word in set(stopwords.words('english'))]\n",
    "    review = ' '.join(review)\n",
    "    corpus.append(review)"
   ]
  },
  {
   "cell_type": "code",
   "execution_count": 4,
   "id": "16269946",
   "metadata": {},
   "outputs": [
    {
     "data": {
      "text/plain": [
       "['sabeena met homai shoot documentary three woman camera ended uncovering feminist history indian nation building rarely seen never heard lovingly told camera chronicle homai vyarawalla',\n",
       " 'homai lived quiet retired life year took success philosophical way took anonymity say sabeena eight year homai passing',\n",
       " 'film beginning long association homai',\n",
       " 'wrote letter would travel baroda every month look photograph try understand person behind image']"
      ]
     },
     "execution_count": 4,
     "metadata": {},
     "output_type": "execute_result"
    }
   ],
   "source": [
    "corpus"
   ]
  },
  {
   "cell_type": "code",
   "execution_count": 5,
   "id": "997739bb",
   "metadata": {},
   "outputs": [
    {
     "name": "stdout",
     "output_type": "stream",
     "text": [
      "[[0.         0.         0.         0.         0.         0.19517543\n",
      "  0.39035085 0.19517543 0.19517543 0.         0.19517543 0.\n",
      "  0.19517543 0.         0.19517543 0.19517543 0.24915589 0.\n",
      "  0.19517543 0.         0.         0.         0.         0.\n",
      "  0.19517543 0.19517543 0.         0.19517543 0.19517543 0.\n",
      "  0.         0.         0.         0.         0.19517543 0.\n",
      "  0.15387855 0.         0.19517543 0.19517543 0.         0.19517543\n",
      "  0.19517543 0.         0.         0.         0.19517543 0.\n",
      "  0.19517543 0.         0.19517543 0.         0.         0.        ]\n",
      " [0.21692416 0.         0.         0.         0.         0.\n",
      "  0.         0.         0.         0.21692416 0.         0.\n",
      "  0.         0.         0.         0.         0.27691976 0.\n",
      "  0.         0.         0.21692416 0.21692416 0.         0.\n",
      "  0.         0.         0.         0.         0.         0.21692416\n",
      "  0.         0.21692416 0.         0.21692416 0.         0.21692416\n",
      "  0.1710255  0.21692416 0.         0.         0.21692416 0.\n",
      "  0.         0.43384832 0.         0.         0.         0.\n",
      "  0.         0.21692416 0.         0.         0.         0.43384832]\n",
      " [0.         0.47633035 0.         0.47633035 0.         0.\n",
      "  0.         0.         0.         0.         0.         0.\n",
      "  0.         0.47633035 0.         0.         0.30403549 0.\n",
      "  0.         0.         0.         0.         0.47633035 0.\n",
      "  0.         0.         0.         0.         0.         0.\n",
      "  0.         0.         0.         0.         0.         0.\n",
      "  0.         0.         0.         0.         0.         0.\n",
      "  0.         0.         0.         0.         0.         0.\n",
      "  0.         0.         0.         0.         0.         0.        ]\n",
      " [0.         0.         0.26726124 0.         0.26726124 0.\n",
      "  0.         0.         0.         0.         0.         0.26726124\n",
      "  0.         0.         0.         0.         0.         0.26726124\n",
      "  0.         0.26726124 0.         0.         0.         0.26726124\n",
      "  0.         0.         0.26726124 0.         0.         0.\n",
      "  0.26726124 0.         0.26726124 0.         0.         0.\n",
      "  0.         0.         0.         0.         0.         0.\n",
      "  0.         0.         0.26726124 0.26726124 0.         0.26726124\n",
      "  0.         0.         0.         0.26726124 0.26726124 0.        ]]\n"
     ]
    }
   ],
   "source": [
    "# Creating the TF-IDF model\n",
    "#Tfidf is statistical measures used to evaluate importance of word in document relative to collection of documents. combine frequency (Tf) and inverse document frequency (IDF)\n",
    "from sklearn.feature_extraction.text import TfidfVectorizer\n",
    "cv = TfidfVectorizer()\n",
    "X = cv.fit_transform(corpus).toarray()\n",
    "print(X)"
   ]
  },
  {
   "cell_type": "code",
   "execution_count": 6,
   "id": "1435a0c4",
   "metadata": {},
   "outputs": [
    {
     "data": {
      "text/plain": [
       "array([0.        , 0.        , 0.        , 0.        , 0.        ,\n",
       "       0.19517543, 0.39035085, 0.19517543, 0.19517543, 0.        ,\n",
       "       0.19517543, 0.        , 0.19517543, 0.        , 0.19517543,\n",
       "       0.19517543, 0.24915589, 0.        , 0.19517543, 0.        ,\n",
       "       0.        , 0.        , 0.        , 0.        , 0.19517543,\n",
       "       0.19517543, 0.        , 0.19517543, 0.19517543, 0.        ,\n",
       "       0.        , 0.        , 0.        , 0.        , 0.19517543,\n",
       "       0.        , 0.15387855, 0.        , 0.19517543, 0.19517543,\n",
       "       0.        , 0.19517543, 0.19517543, 0.        , 0.        ,\n",
       "       0.        , 0.19517543, 0.        , 0.19517543, 0.        ,\n",
       "       0.19517543, 0.        , 0.        , 0.        ])"
      ]
     },
     "execution_count": 6,
     "metadata": {},
     "output_type": "execute_result"
    }
   ],
   "source": [
    "X[0]"
   ]
  },
  {
   "cell_type": "code",
   "execution_count": null,
   "id": "fe75c7ef",
   "metadata": {},
   "outputs": [],
   "source": []
  }
 ],
 "metadata": {
  "kernelspec": {
   "display_name": "Python 3 (ipykernel)",
   "language": "python",
   "name": "python3"
  },
  "language_info": {
   "codemirror_mode": {
    "name": "ipython",
    "version": 3
   },
   "file_extension": ".py",
   "mimetype": "text/x-python",
   "name": "python",
   "nbconvert_exporter": "python",
   "pygments_lexer": "ipython3",
   "version": "3.11.5"
  }
 },
 "nbformat": 4,
 "nbformat_minor": 5
}
