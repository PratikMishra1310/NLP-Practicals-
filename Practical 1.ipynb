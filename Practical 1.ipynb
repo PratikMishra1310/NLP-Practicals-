{
 "cells": [
  {
   "cell_type": "code",
   "execution_count": 1,
   "id": "49ce5d18",
   "metadata": {},
   "outputs": [
    {
     "name": "stdout",
     "output_type": "stream",
     "text": [
      "Requirement already satisfied: gensim in c:\\users\\abhij\\anaconda3\\lib\\site-packages (4.3.0)\n",
      "Requirement already satisfied: numpy>=1.18.5 in c:\\users\\abhij\\anaconda3\\lib\\site-packages (from gensim) (1.24.3)\n",
      "Requirement already satisfied: scipy>=1.7.0 in c:\\users\\abhij\\anaconda3\\lib\\site-packages (from gensim) (1.11.1)\n",
      "Requirement already satisfied: smart-open>=1.8.1 in c:\\users\\abhij\\anaconda3\\lib\\site-packages (from gensim) (5.2.1)\n",
      "Requirement already satisfied: FuzzyTM>=0.4.0 in c:\\users\\abhij\\anaconda3\\lib\\site-packages (from gensim) (2.0.5)\n",
      "Requirement already satisfied: pandas in c:\\users\\abhij\\anaconda3\\lib\\site-packages (from FuzzyTM>=0.4.0->gensim) (2.0.3)\n",
      "Requirement already satisfied: pyfume in c:\\users\\abhij\\anaconda3\\lib\\site-packages (from FuzzyTM>=0.4.0->gensim) (0.2.25)\n",
      "Requirement already satisfied: python-dateutil>=2.8.2 in c:\\users\\abhij\\anaconda3\\lib\\site-packages (from pandas->FuzzyTM>=0.4.0->gensim) (2.8.2)\n",
      "Requirement already satisfied: pytz>=2020.1 in c:\\users\\abhij\\anaconda3\\lib\\site-packages (from pandas->FuzzyTM>=0.4.0->gensim) (2023.3.post1)\n",
      "Requirement already satisfied: tzdata>=2022.1 in c:\\users\\abhij\\anaconda3\\lib\\site-packages (from pandas->FuzzyTM>=0.4.0->gensim) (2023.3)\n",
      "Requirement already satisfied: simpful in c:\\users\\abhij\\anaconda3\\lib\\site-packages (from pyfume->FuzzyTM>=0.4.0->gensim) (2.11.0)\n",
      "Requirement already satisfied: fst-pso in c:\\users\\abhij\\anaconda3\\lib\\site-packages (from pyfume->FuzzyTM>=0.4.0->gensim) (1.8.1)\n",
      "Requirement already satisfied: six>=1.5 in c:\\users\\abhij\\anaconda3\\lib\\site-packages (from python-dateutil>=2.8.2->pandas->FuzzyTM>=0.4.0->gensim) (1.16.0)\n",
      "Requirement already satisfied: miniful in c:\\users\\abhij\\anaconda3\\lib\\site-packages (from fst-pso->pyfume->FuzzyTM>=0.4.0->gensim) (0.0.6)\n"
     ]
    }
   ],
   "source": [
    "!pip install gensim"
   ]
  },
  {
   "cell_type": "code",
   "execution_count": 2,
   "id": "32f86352",
   "metadata": {},
   "outputs": [],
   "source": [
    "import nltk\n",
    "from gensim.models import Word2Vec\n",
    "from nltk.corpus import stopwords\n",
    "import re"
   ]
  },
  {
   "cell_type": "code",
   "execution_count": 3,
   "id": "592650e5",
   "metadata": {},
   "outputs": [],
   "source": [
    "paragraph = \"\"\"I have three visions for India. In 3000 years of our history, people from all over \n",
    "               the world have come and invaded us, captured our lands, conquered our minds. \n",
    "               From Alexander onwards, the Greeks, the Turks, the Moguls, the Portuguese, the British,\n",
    "               the French, the Dutch, all of them came and looted us, took over what was ours. \n",
    "               Yet we have not done this to any other nation. We have not conquered anyone. \n",
    "               We have not grabbed their land, their culture, \n",
    "               their history and tried to enforce our way of life on them. \n",
    "               Why? Because we respect the freedom of others.That is why my \n",
    "               first vision is that of freedom. I believe that India got its first vision of \n",
    "               this in 1857, when we started the War of Independence. It is this freedom that\n",
    "               we must protect and nurture and build on. If we are not free, no one will respect us.\n",
    "               My second vision for India’s development. For fifty years we have been a developing nation.\n",
    "               It is time we see ourselves as a developed nation. We are among the top 5 nations of the world\n",
    "               in terms of GDP. We have a 10 percent growth rate in most areas. Our poverty levels are falling.\n",
    "               Our achievements are being globally recognised today. Yet we lack the self-confidence to\n",
    "               see ourselves as a developed nation, self-reliant and self-assured. Isn’t this incorrect?\n",
    "               I have a third vision. India must stand up to the world. Because I believe that unless India \n",
    "               stands up to the world, no one will respect us. Only strength respects strength. We must be \n",
    "               strong not only as a military power but also as an economic power. Both must go hand-in-hand. \n",
    "               My good fortune was to have worked with three great minds. Dr. Vikram Sarabhai of the Dept. of \n",
    "               space, Professor Satish Dhawan, who succeeded him and Dr. Brahm Prakash, father of nuclear material.\n",
    "               I was lucky to have worked with all three of them closely and consider this the great opportunity of my life. \n",
    "               I see four milestones in my career\"\"\""
   ]
  },
  {
   "cell_type": "code",
   "execution_count": 4,
   "id": "a8c453e9",
   "metadata": {},
   "outputs": [],
   "source": [
    "# Preprocessing the data\n",
    "text = re.sub(r'\\[[0-9]*\\]',' ',paragraph)\n",
    "text = re.sub(r'\\s+',' ',text)\n",
    "text = text.lower()\n",
    "text = re.sub(r'\\d',' ',text)\n",
    "text = re.sub(r'\\s+',' ',text)"
   ]
  },
  {
   "cell_type": "code",
   "execution_count": 5,
   "id": "6e0c8f44",
   "metadata": {},
   "outputs": [
    {
     "data": {
      "text/plain": [
       "'i have three visions for india. in years of our history, people from all over the world have come and invaded us, captured our lands, conquered our minds. from alexander onwards, the greeks, the turks, the moguls, the portuguese, the british, the french, the dutch, all of them came and looted us, took over what was ours. yet we have not done this to any other nation. we have not conquered anyone. we have not grabbed their land, their culture, their history and tried to enforce our way of life on them. why? because we respect the freedom of others.that is why my first vision is that of freedom. i believe that india got its first vision of this in , when we started the war of independence. it is this freedom that we must protect and nurture and build on. if we are not free, no one will respect us. my second vision for india’s development. for fifty years we have been a developing nation. it is time we see ourselves as a developed nation. we are among the top nations of the world in terms of gdp. we have a percent growth rate in most areas. our poverty levels are falling. our achievements are being globally recognised today. yet we lack the self-confidence to see ourselves as a developed nation, self-reliant and self-assured. isn’t this incorrect? i have a third vision. india must stand up to the world. because i believe that unless india stands up to the world, no one will respect us. only strength respects strength. we must be strong not only as a military power but also as an economic power. both must go hand-in-hand. my good fortune was to have worked with three great minds. dr. vikram sarabhai of the dept. of space, professor satish dhawan, who succeeded him and dr. brahm prakash, father of nuclear material. i was lucky to have worked with all three of them closely and consider this the great opportunity of my life. i see four milestones in my career'"
      ]
     },
     "execution_count": 5,
     "metadata": {},
     "output_type": "execute_result"
    }
   ],
   "source": [
    "text"
   ]
  },
  {
   "cell_type": "code",
   "execution_count": 10,
   "id": "5a40dc69",
   "metadata": {
    "scrolled": true
   },
   "outputs": [
    {
     "name": "stderr",
     "output_type": "stream",
     "text": [
      "[nltk_data] Downloading package punkt to\n",
      "[nltk_data]     C:\\Users\\abhij\\AppData\\Roaming\\nltk_data...\n",
      "[nltk_data]   Package punkt is already up-to-date!\n",
      "[nltk_data] Downloading package stopwords to\n",
      "[nltk_data]     C:\\Users\\abhij\\AppData\\Roaming\\nltk_data...\n",
      "[nltk_data]   Unzipping corpora\\stopwords.zip.\n"
     ]
    }
   ],
   "source": [
    "# Preparing the dataset\n",
    "import nltk\n",
    "nltk.download('punkt')\n",
    "nltk.download('stopwords')\n",
    "sentences = nltk.sent_tokenize(text)\n",
    "sentences = [nltk.word_tokenize(sentence) for sentence in sentences]\n",
    "for i in range(len(sentences)):\n",
    "    sentences[i] = [word for word in sentences[i] if word not in stopwords.words('english')]"
   ]
  },
  {
   "cell_type": "code",
   "execution_count": 11,
   "id": "4c1f4bd2",
   "metadata": {},
   "outputs": [
    {
     "data": {
      "text/plain": [
       "[['three', 'visions', 'india', '.'],\n",
       " ['years',\n",
       "  'history',\n",
       "  ',',\n",
       "  'people',\n",
       "  'world',\n",
       "  'come',\n",
       "  'invaded',\n",
       "  'us',\n",
       "  ',',\n",
       "  'captured',\n",
       "  'lands',\n",
       "  ',',\n",
       "  'conquered',\n",
       "  'minds',\n",
       "  '.'],\n",
       " ['alexander',\n",
       "  'onwards',\n",
       "  ',',\n",
       "  'greeks',\n",
       "  ',',\n",
       "  'turks',\n",
       "  ',',\n",
       "  'moguls',\n",
       "  ',',\n",
       "  'portuguese',\n",
       "  ',',\n",
       "  'british',\n",
       "  ',',\n",
       "  'french',\n",
       "  ',',\n",
       "  'dutch',\n",
       "  ',',\n",
       "  'came',\n",
       "  'looted',\n",
       "  'us',\n",
       "  ',',\n",
       "  'took',\n",
       "  '.'],\n",
       " ['yet', 'done', 'nation', '.'],\n",
       " ['conquered', 'anyone', '.'],\n",
       " ['grabbed',\n",
       "  'land',\n",
       "  ',',\n",
       "  'culture',\n",
       "  ',',\n",
       "  'history',\n",
       "  'tried',\n",
       "  'enforce',\n",
       "  'way',\n",
       "  'life',\n",
       "  '.'],\n",
       " ['?'],\n",
       " ['respect', 'freedom', 'others.that', 'first', 'vision', 'freedom', '.'],\n",
       " ['believe',\n",
       "  'india',\n",
       "  'got',\n",
       "  'first',\n",
       "  'vision',\n",
       "  ',',\n",
       "  'started',\n",
       "  'war',\n",
       "  'independence',\n",
       "  '.'],\n",
       " ['freedom', 'must', 'protect', 'nurture', 'build', '.'],\n",
       " ['free', ',', 'one', 'respect', 'us', '.'],\n",
       " ['second', 'vision', 'india', '’', 'development', '.'],\n",
       " ['fifty', 'years', 'developing', 'nation', '.'],\n",
       " ['time', 'see', 'developed', 'nation', '.'],\n",
       " ['among', 'top', 'nations', 'world', 'terms', 'gdp', '.'],\n",
       " ['percent', 'growth', 'rate', 'areas', '.'],\n",
       " ['poverty', 'levels', 'falling', '.'],\n",
       " ['achievements', 'globally', 'recognised', 'today', '.'],\n",
       " ['yet',\n",
       "  'lack',\n",
       "  'self-confidence',\n",
       "  'see',\n",
       "  'developed',\n",
       "  'nation',\n",
       "  ',',\n",
       "  'self-reliant',\n",
       "  'self-assured',\n",
       "  '.'],\n",
       " ['’', 'incorrect', '?'],\n",
       " ['third', 'vision', '.'],\n",
       " ['india', 'must', 'stand', 'world', '.'],\n",
       " ['believe',\n",
       "  'unless',\n",
       "  'india',\n",
       "  'stands',\n",
       "  'world',\n",
       "  ',',\n",
       "  'one',\n",
       "  'respect',\n",
       "  'us',\n",
       "  '.'],\n",
       " ['strength', 'respects', 'strength', '.'],\n",
       " ['must', 'strong', 'military', 'power', 'also', 'economic', 'power', '.'],\n",
       " ['must', 'go', 'hand-in-hand', '.'],\n",
       " ['good', 'fortune', 'worked', 'three', 'great', 'minds', '.'],\n",
       " ['dr.', 'vikram', 'sarabhai', 'dept', '.'],\n",
       " ['space',\n",
       "  ',',\n",
       "  'professor',\n",
       "  'satish',\n",
       "  'dhawan',\n",
       "  ',',\n",
       "  'succeeded',\n",
       "  'dr.',\n",
       "  'brahm',\n",
       "  'prakash',\n",
       "  ',',\n",
       "  'father',\n",
       "  'nuclear',\n",
       "  'material',\n",
       "  '.'],\n",
       " ['lucky',\n",
       "  'worked',\n",
       "  'three',\n",
       "  'closely',\n",
       "  'consider',\n",
       "  'great',\n",
       "  'opportunity',\n",
       "  'life',\n",
       "  '.'],\n",
       " ['see', 'four', 'milestones', 'career']]"
      ]
     },
     "execution_count": 11,
     "metadata": {},
     "output_type": "execute_result"
    }
   ],
   "source": [
    "sentences"
   ]
  },
  {
   "cell_type": "code",
   "execution_count": 12,
   "id": "12318b63",
   "metadata": {},
   "outputs": [],
   "source": [
    "# Training the Word2Vec model\n",
    "model = Word2Vec(sentences,min_count=1)\n",
    "words = model.wv.index_to_key"
   ]
  },
  {
   "cell_type": "code",
   "execution_count": 13,
   "id": "4d26e646",
   "metadata": {},
   "outputs": [
    {
     "data": {
      "text/plain": [
       "['.',\n",
       " ',',\n",
       " 'india',\n",
       " 'vision',\n",
       " 'must',\n",
       " 'nation',\n",
       " 'world',\n",
       " 'us',\n",
       " 'three',\n",
       " 'freedom',\n",
       " 'respect',\n",
       " 'see',\n",
       " 'first',\n",
       " 'power',\n",
       " 'yet',\n",
       " '’',\n",
       " 'strength',\n",
       " 'worked',\n",
       " '?',\n",
       " 'life',\n",
       " 'believe',\n",
       " 'dr.',\n",
       " 'great',\n",
       " 'minds',\n",
       " 'one',\n",
       " 'years',\n",
       " 'history',\n",
       " 'developed',\n",
       " 'conquered',\n",
       " 'protect',\n",
       " 'others.that',\n",
       " 'war',\n",
       " 'nurture',\n",
       " 'independence',\n",
       " 'build',\n",
       " 'free',\n",
       " 'tried',\n",
       " 'got',\n",
       " 'started',\n",
       " 'way',\n",
       " 'enforce',\n",
       " 'took',\n",
       " 'culture',\n",
       " 'turks',\n",
       " 'visions',\n",
       " 'people',\n",
       " 'come',\n",
       " 'invaded',\n",
       " 'captured',\n",
       " 'lands',\n",
       " 'alexander',\n",
       " 'onwards',\n",
       " 'greeks',\n",
       " 'moguls',\n",
       " 'land',\n",
       " 'portuguese',\n",
       " 'british',\n",
       " 'french',\n",
       " 'dutch',\n",
       " 'came',\n",
       " 'looted',\n",
       " 'done',\n",
       " 'anyone',\n",
       " 'grabbed',\n",
       " 'second',\n",
       " 'career',\n",
       " 'development',\n",
       " 'respects',\n",
       " 'military',\n",
       " 'also',\n",
       " 'economic',\n",
       " 'go',\n",
       " 'hand-in-hand',\n",
       " 'good',\n",
       " 'fortune',\n",
       " 'vikram',\n",
       " 'sarabhai',\n",
       " 'dept',\n",
       " 'space',\n",
       " 'professor',\n",
       " 'satish',\n",
       " 'dhawan',\n",
       " 'succeeded',\n",
       " 'brahm',\n",
       " 'prakash',\n",
       " 'father',\n",
       " 'nuclear',\n",
       " 'material',\n",
       " 'lucky',\n",
       " 'closely',\n",
       " 'consider',\n",
       " 'opportunity',\n",
       " 'four',\n",
       " 'strong',\n",
       " 'stands',\n",
       " 'fifty',\n",
       " 'unless',\n",
       " 'developing',\n",
       " 'milestones',\n",
       " 'among',\n",
       " 'top',\n",
       " 'nations',\n",
       " 'terms',\n",
       " 'gdp',\n",
       " 'percent',\n",
       " 'growth',\n",
       " 'rate',\n",
       " 'areas',\n",
       " 'poverty',\n",
       " 'levels',\n",
       " 'falling',\n",
       " 'achievements',\n",
       " 'globally',\n",
       " 'recognised',\n",
       " 'today',\n",
       " 'lack',\n",
       " 'self-confidence',\n",
       " 'self-reliant',\n",
       " 'self-assured',\n",
       " 'incorrect',\n",
       " 'third',\n",
       " 'stand',\n",
       " 'time']"
      ]
     },
     "execution_count": 13,
     "metadata": {},
     "output_type": "execute_result"
    }
   ],
   "source": [
    "words"
   ]
  },
  {
   "cell_type": "code",
   "execution_count": 16,
   "id": "e39d5d9a",
   "metadata": {},
   "outputs": [
    {
     "data": {
      "text/plain": [
       "[('unless', 0.2513527572154999),\n",
       " ('moguls', 0.2480589747428894),\n",
       " ('.', 0.2167753428220749),\n",
       " ('visions', 0.21363484859466553),\n",
       " ('development', 0.20419521629810333),\n",
       " ('turks', 0.16215138137340546),\n",
       " ('self-confidence', 0.1557946354150772),\n",
       " ('father', 0.15303698182106018),\n",
       " ('areas', 0.14788690209388733),\n",
       " ('falling', 0.1441386640071869)]"
      ]
     },
     "execution_count": 16,
     "metadata": {},
     "output_type": "execute_result"
    }
   ],
   "source": [
    "# # Finding Word Vectors\n",
    "vector = model.wv['power']\n",
    "\n",
    "# Most similar words\n",
    "similar = model.wv.most_similar('freedom')\n",
    "similar"
   ]
  },
  {
   "cell_type": "code",
   "execution_count": 17,
   "id": "fb6c0a43",
   "metadata": {},
   "outputs": [
    {
     "data": {
      "text/plain": [
       "array([-9.4754212e-03,  9.5978202e-03, -7.7485875e-03, -2.6772162e-03,\n",
       "       -4.8934515e-03, -5.0393818e-03, -7.9811085e-03, -7.7190250e-03,\n",
       "       -4.5949635e-03, -1.3236590e-03, -5.1194355e-03,  6.0840938e-03,\n",
       "       -9.5378924e-03, -5.2793766e-03,  9.5023159e-03,  6.9764112e-03,\n",
       "        7.6755784e-03,  4.1858866e-03,  4.7403559e-04, -6.0870978e-03,\n",
       "        6.0777473e-03,  2.6511338e-03,  7.7147153e-03,  6.3450206e-03,\n",
       "        7.8728562e-03,  8.6700767e-03, -9.9477554e-03, -6.7587085e-03,\n",
       "        1.3340372e-03,  6.4168153e-03,  7.4269455e-03,  5.4902374e-03,\n",
       "        7.6819165e-03, -5.1808669e-03,  6.5450892e-03, -4.0689707e-03,\n",
       "       -9.0350285e-03,  9.1371695e-03,  1.3091881e-03, -2.7637044e-03,\n",
       "       -2.4182911e-03, -4.2257421e-03,  4.8000040e-03,  4.4245734e-03,\n",
       "       -2.6310601e-03, -7.3135295e-03, -3.5856687e-03, -3.3795304e-04,\n",
       "        6.1040549e-03, -2.7585577e-03, -7.9617064e-05,  8.3465409e-04,\n",
       "       -7.0500849e-03,  2.0479574e-03, -1.4407914e-03,  2.8674353e-03,\n",
       "        4.8345947e-03, -1.3160994e-03, -2.8352847e-03,  7.7223480e-03,\n",
       "        5.0488980e-03,  6.7198738e-03,  4.5128255e-03,  8.6903963e-03,\n",
       "        7.4647921e-03, -1.0013835e-03,  8.7672984e-03,  4.6222755e-03,\n",
       "        5.3965892e-03, -1.3626177e-03, -2.0676309e-03, -4.3912721e-03,\n",
       "       -8.4751341e-03,  3.0291872e-03,  8.9608766e-03,  8.9398930e-03,\n",
       "       -1.9561825e-03,  6.1124098e-03,  3.7812816e-03, -4.2963685e-03,\n",
       "        2.0140789e-03, -5.4258760e-03,  8.1615606e-03,  5.4631536e-03,\n",
       "        3.1904061e-03,  4.0975581e-03,  8.7221740e-03,  7.3176380e-03,\n",
       "       -8.0645812e-04, -7.0884735e-03,  8.4349923e-03,  7.2897188e-03,\n",
       "        1.6966086e-03, -1.3571125e-03, -5.8262018e-03, -4.5082984e-03,\n",
       "        8.6385058e-03, -3.1485951e-03, -6.3608033e-03,  9.8485108e-03],\n",
       "      dtype=float32)"
      ]
     },
     "execution_count": 17,
     "metadata": {},
     "output_type": "execute_result"
    }
   ],
   "source": [
    "vector"
   ]
  },
  {
   "cell_type": "code",
   "execution_count": 18,
   "id": "101ebe21",
   "metadata": {},
   "outputs": [
    {
     "data": {
      "text/plain": [
       "array([ 1.2947785e-03, -9.7662648e-03,  4.5971889e-03, -5.2956538e-04,\n",
       "        6.3424790e-03,  1.7214759e-03, -3.1059019e-03,  7.7851214e-03,\n",
       "        1.5227393e-03,  1.5731945e-05, -4.6268855e-03, -8.5034193e-03,\n",
       "       -7.7514988e-03,  8.6879032e-03, -8.9012664e-03,  9.0256101e-03,\n",
       "       -9.2945667e-03, -3.2097619e-04, -1.9374969e-03, -8.9880126e-03,\n",
       "        8.6575439e-03,  6.7785075e-03,  3.0164917e-03,  4.8330165e-03,\n",
       "        6.9344140e-05,  9.4626676e-03,  7.0120976e-03, -9.8688724e-03,\n",
       "       -4.4368445e-03, -1.3300532e-03,  3.0776111e-03, -4.3391474e-03,\n",
       "        1.4641227e-03, -7.8708278e-03,  2.7719173e-03,  4.7527365e-03,\n",
       "        4.9563665e-03, -3.1717895e-03, -8.4335525e-03, -9.2368973e-03,\n",
       "       -7.0219877e-04, -7.3228441e-03, -6.8438179e-03,  6.1187842e-03,\n",
       "        7.1677887e-03,  2.1229936e-03, -7.9032667e-03, -5.7131476e-03,\n",
       "        8.0774650e-03,  3.9510066e-03, -5.2284468e-03, -7.4128243e-03,\n",
       "        8.0118189e-04,  3.4510447e-03,  2.0938427e-03,  3.1534098e-03,\n",
       "       -5.6369323e-03, -9.8645464e-03, -7.0675905e-03,  2.2196051e-04,\n",
       "        4.6219169e-03,  4.5257579e-03,  1.8856119e-03,  5.1789470e-03,\n",
       "       -1.1649452e-04,  4.1364757e-03, -9.1184117e-03,  7.7206874e-03,\n",
       "        6.1592250e-03,  5.1342421e-03,  7.1936250e-03,  8.4397923e-03,\n",
       "        7.5434428e-04, -1.6983721e-03,  5.4316339e-04, -9.2910090e-03,\n",
       "        8.3995042e-03, -6.3714110e-03,  8.4514571e-03, -4.2309300e-03,\n",
       "        6.2817300e-04, -9.1673955e-03, -9.5774643e-03, -7.8426478e-03,\n",
       "       -7.7318307e-03,  3.6273597e-04, -7.1863774e-03, -4.9042562e-03,\n",
       "       -5.2248598e-03, -4.3015014e-03,  7.0268093e-03,  4.8727305e-03,\n",
       "        8.6792642e-03,  7.1073878e-03, -5.6764479e-03,  7.2576571e-03,\n",
       "       -9.3058329e-03, -2.5818674e-03, -7.7517997e-03,  4.1671814e-03],\n",
       "      dtype=float32)"
      ]
     },
     "execution_count": 18,
     "metadata": {},
     "output_type": "execute_result"
    }
   ],
   "source": [
    "vector1 = model.wv['strength']\n",
    "vector1"
   ]
  },
  {
   "cell_type": "code",
   "execution_count": 19,
   "id": "385c88ba",
   "metadata": {},
   "outputs": [],
   "source": [
    "similar = model.wv.most_similar('freedom')"
   ]
  },
  {
   "cell_type": "code",
   "execution_count": 21,
   "id": "6ce7329e",
   "metadata": {},
   "outputs": [
    {
     "data": {
      "text/plain": [
       "[('unless', 0.2513527572154999),\n",
       " ('moguls', 0.2480589747428894),\n",
       " ('.', 0.2167753428220749),\n",
       " ('visions', 0.21363484859466553),\n",
       " ('development', 0.20419521629810333),\n",
       " ('turks', 0.16215138137340546),\n",
       " ('self-confidence', 0.1557946354150772),\n",
       " ('father', 0.15303698182106018),\n",
       " ('areas', 0.14788690209388733),\n",
       " ('falling', 0.1441386640071869)]"
      ]
     },
     "execution_count": 21,
     "metadata": {},
     "output_type": "execute_result"
    }
   ],
   "source": [
    "similar"
   ]
  },
  {
   "cell_type": "code",
   "execution_count": 22,
   "id": "9359b8ac",
   "metadata": {},
   "outputs": [
    {
     "data": {
      "text/plain": [
       "array([-9.4754212e-03,  9.5978202e-03, -7.7485875e-03, -2.6772162e-03,\n",
       "       -4.8934515e-03, -5.0393818e-03, -7.9811085e-03, -7.7190250e-03,\n",
       "       -4.5949635e-03, -1.3236590e-03, -5.1194355e-03,  6.0840938e-03,\n",
       "       -9.5378924e-03, -5.2793766e-03,  9.5023159e-03,  6.9764112e-03,\n",
       "        7.6755784e-03,  4.1858866e-03,  4.7403559e-04, -6.0870978e-03,\n",
       "        6.0777473e-03,  2.6511338e-03,  7.7147153e-03,  6.3450206e-03,\n",
       "        7.8728562e-03,  8.6700767e-03, -9.9477554e-03, -6.7587085e-03,\n",
       "        1.3340372e-03,  6.4168153e-03,  7.4269455e-03,  5.4902374e-03,\n",
       "        7.6819165e-03, -5.1808669e-03,  6.5450892e-03, -4.0689707e-03,\n",
       "       -9.0350285e-03,  9.1371695e-03,  1.3091881e-03, -2.7637044e-03,\n",
       "       -2.4182911e-03, -4.2257421e-03,  4.8000040e-03,  4.4245734e-03,\n",
       "       -2.6310601e-03, -7.3135295e-03, -3.5856687e-03, -3.3795304e-04,\n",
       "        6.1040549e-03, -2.7585577e-03, -7.9617064e-05,  8.3465409e-04,\n",
       "       -7.0500849e-03,  2.0479574e-03, -1.4407914e-03,  2.8674353e-03,\n",
       "        4.8345947e-03, -1.3160994e-03, -2.8352847e-03,  7.7223480e-03,\n",
       "        5.0488980e-03,  6.7198738e-03,  4.5128255e-03,  8.6903963e-03,\n",
       "        7.4647921e-03, -1.0013835e-03,  8.7672984e-03,  4.6222755e-03,\n",
       "        5.3965892e-03, -1.3626177e-03, -2.0676309e-03, -4.3912721e-03,\n",
       "       -8.4751341e-03,  3.0291872e-03,  8.9608766e-03,  8.9398930e-03,\n",
       "       -1.9561825e-03,  6.1124098e-03,  3.7812816e-03, -4.2963685e-03,\n",
       "        2.0140789e-03, -5.4258760e-03,  8.1615606e-03,  5.4631536e-03,\n",
       "        3.1904061e-03,  4.0975581e-03,  8.7221740e-03,  7.3176380e-03,\n",
       "       -8.0645812e-04, -7.0884735e-03,  8.4349923e-03,  7.2897188e-03,\n",
       "        1.6966086e-03, -1.3571125e-03, -5.8262018e-03, -4.5082984e-03,\n",
       "        8.6385058e-03, -3.1485951e-03, -6.3608033e-03,  9.8485108e-03],\n",
       "      dtype=float32)"
      ]
     },
     "execution_count": 22,
     "metadata": {},
     "output_type": "execute_result"
    }
   ],
   "source": [
    "vector"
   ]
  },
  {
   "cell_type": "code",
   "execution_count": 23,
   "id": "5223e2dd",
   "metadata": {},
   "outputs": [],
   "source": [
    "similar = model.wv.most_similar('nation')"
   ]
  },
  {
   "cell_type": "code",
   "execution_count": 24,
   "id": "6fd757cd",
   "metadata": {},
   "outputs": [
    {
     "data": {
      "text/plain": [
       "[('good', 0.3076351583003998),\n",
       " ('military', 0.28105616569519043),\n",
       " ('space', 0.23671159148216248),\n",
       " ('lucky', 0.20310412347316742),\n",
       " ('done', 0.19071857631206512),\n",
       " ('respects', 0.1799585074186325),\n",
       " ('see', 0.17157360911369324),\n",
       " ('others.that', 0.1639741063117981),\n",
       " ('closely', 0.147018164396286),\n",
       " ('strong', 0.14219972491264343)]"
      ]
     },
     "execution_count": 24,
     "metadata": {},
     "output_type": "execute_result"
    }
   ],
   "source": [
    "similar"
   ]
  },
  {
   "cell_type": "code",
   "execution_count": null,
   "id": "7ab49393",
   "metadata": {},
   "outputs": [],
   "source": []
  }
 ],
 "metadata": {
  "kernelspec": {
   "display_name": "Python 3 (ipykernel)",
   "language": "python",
   "name": "python3"
  },
  "language_info": {
   "codemirror_mode": {
    "name": "ipython",
    "version": 3
   },
   "file_extension": ".py",
   "mimetype": "text/x-python",
   "name": "python",
   "nbconvert_exporter": "python",
   "pygments_lexer": "ipython3",
   "version": "3.11.5"
  }
 },
 "nbformat": 4,
 "nbformat_minor": 5
}
