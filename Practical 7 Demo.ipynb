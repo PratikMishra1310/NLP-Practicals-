{
 "cells": [
  {
   "cell_type": "code",
   "execution_count": 1,
   "id": "ea61a6a1",
   "metadata": {},
   "outputs": [
    {
     "name": "stdout",
     "output_type": "stream",
     "text": [
      "Requirement already satisfied: Textblob in c:\\users\\abhij\\anaconda3\\lib\\site-packages (0.18.0.post0)\n",
      "Requirement already satisfied: nltk>=3.8 in c:\\users\\abhij\\anaconda3\\lib\\site-packages (from Textblob) (3.8.1)\n",
      "Requirement already satisfied: click in c:\\users\\abhij\\anaconda3\\lib\\site-packages (from nltk>=3.8->Textblob) (8.0.4)\n",
      "Requirement already satisfied: joblib in c:\\users\\abhij\\anaconda3\\lib\\site-packages (from nltk>=3.8->Textblob) (1.2.0)\n",
      "Requirement already satisfied: regex>=2021.8.3 in c:\\users\\abhij\\anaconda3\\lib\\site-packages (from nltk>=3.8->Textblob) (2022.7.9)\n",
      "Requirement already satisfied: tqdm in c:\\users\\abhij\\anaconda3\\lib\\site-packages (from nltk>=3.8->Textblob) (4.65.0)\n",
      "Requirement already satisfied: colorama in c:\\users\\abhij\\anaconda3\\lib\\site-packages (from click->nltk>=3.8->Textblob) (0.4.6)\n",
      "Note: you may need to restart the kernel to use updated packages.\n"
     ]
    }
   ],
   "source": [
    "#TextBlob provides an API for common NLP tasks, including: part-of-speech tagging, noun phrase extraction, sentiment analysis, classification, and translation.\n",
    "pip install Textblob"
   ]
  },
  {
   "cell_type": "code",
   "execution_count": 2,
   "id": "8a37d55d",
   "metadata": {},
   "outputs": [
    {
     "name": "stdout",
     "output_type": "stream",
     "text": [
      "Sentiment(polarity=1.0, subjectivity=1.0)\n",
      "Positive\n",
      "Sentiment(polarity=0.3499999999999999, subjectivity=0.6666666666666666)\n",
      "Positive\n",
      "Sentiment(polarity=-0.3333333333333333, subjectivity=1.0)\n",
      "Negative\n"
     ]
    }
   ],
   "source": [
    "from textblob import TextBlob\n",
    "#Polarity in sentiment analysis is the overall sentiment of a text, word, or phrase\n",
    "def sentiment(polarity):\n",
    "    if blob.sentiment.polarity < 0:\n",
    "        print(\"Negative\")\n",
    "    elif blob.sentiment.polarity > 0:\n",
    "        print(\"Positive\")\n",
    "    else:\n",
    "        print(\"Neutral\")\n",
    "blob = TextBlob(\"The movie was excellent!\")\n",
    "print(blob.sentiment)\n",
    "sentiment(blob.sentiment.polarity)\n",
    "blob = TextBlob(\"The movie was not bad.\")\n",
    "print(blob.sentiment)\n",
    "sentiment(blob.sentiment.polarity)\n",
    "blob = TextBlob(\"The movie was ridiculous.\")\n",
    "print(blob.sentiment)\n",
    "sentiment(blob.sentiment.polarity)"
   ]
  },
  {
   "cell_type": "code",
   "execution_count": null,
   "id": "5d951c7f",
   "metadata": {},
   "outputs": [],
   "source": []
  }
 ],
 "metadata": {
  "kernelspec": {
   "display_name": "Python 3 (ipykernel)",
   "language": "python",
   "name": "python3"
  },
  "language_info": {
   "codemirror_mode": {
    "name": "ipython",
    "version": 3
   },
   "file_extension": ".py",
   "mimetype": "text/x-python",
   "name": "python",
   "nbconvert_exporter": "python",
   "pygments_lexer": "ipython3",
   "version": "3.11.5"
  }
 },
 "nbformat": 4,
 "nbformat_minor": 5
}
