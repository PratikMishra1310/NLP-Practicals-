{
 "cells": [
  {
   "cell_type": "code",
   "execution_count": 1,
   "id": "f1f4264c",
   "metadata": {},
   "outputs": [
    {
     "name": "stdout",
     "output_type": "stream",
     "text": [
      "Requirement already satisfied: gensim in c:\\users\\abhij\\anaconda3\\lib\\site-packages (4.3.0)\n",
      "Requirement already satisfied: numpy>=1.18.5 in c:\\users\\abhij\\anaconda3\\lib\\site-packages (from gensim) (1.24.3)\n",
      "Requirement already satisfied: scipy>=1.7.0 in c:\\users\\abhij\\anaconda3\\lib\\site-packages (from gensim) (1.11.1)\n",
      "Requirement already satisfied: smart-open>=1.8.1 in c:\\users\\abhij\\anaconda3\\lib\\site-packages (from gensim) (5.2.1)\n",
      "Requirement already satisfied: FuzzyTM>=0.4.0 in c:\\users\\abhij\\anaconda3\\lib\\site-packages (from gensim) (2.0.5)\n",
      "Requirement already satisfied: pandas in c:\\users\\abhij\\anaconda3\\lib\\site-packages (from FuzzyTM>=0.4.0->gensim) (2.0.3)\n",
      "Requirement already satisfied: pyfume in c:\\users\\abhij\\anaconda3\\lib\\site-packages (from FuzzyTM>=0.4.0->gensim) (0.2.25)\n",
      "Requirement already satisfied: python-dateutil>=2.8.2 in c:\\users\\abhij\\anaconda3\\lib\\site-packages (from pandas->FuzzyTM>=0.4.0->gensim) (2.8.2)\n",
      "Requirement already satisfied: pytz>=2020.1 in c:\\users\\abhij\\anaconda3\\lib\\site-packages (from pandas->FuzzyTM>=0.4.0->gensim) (2023.3.post1)\n",
      "Requirement already satisfied: tzdata>=2022.1 in c:\\users\\abhij\\anaconda3\\lib\\site-packages (from pandas->FuzzyTM>=0.4.0->gensim) (2023.3)\n",
      "Requirement already satisfied: simpful in c:\\users\\abhij\\anaconda3\\lib\\site-packages (from pyfume->FuzzyTM>=0.4.0->gensim) (2.11.0)\n",
      "Requirement already satisfied: fst-pso in c:\\users\\abhij\\anaconda3\\lib\\site-packages (from pyfume->FuzzyTM>=0.4.0->gensim) (1.8.1)\n",
      "Requirement already satisfied: six>=1.5 in c:\\users\\abhij\\anaconda3\\lib\\site-packages (from python-dateutil>=2.8.2->pandas->FuzzyTM>=0.4.0->gensim) (1.16.0)\n",
      "Requirement already satisfied: miniful in c:\\users\\abhij\\anaconda3\\lib\\site-packages (from fst-pso->pyfume->FuzzyTM>=0.4.0->gensim) (0.0.6)\n"
     ]
    }
   ],
   "source": [
    "#gensim is represents documents as semantic vectors\n",
    "!pip install gensim"
   ]
  },
  {
   "cell_type": "code",
   "execution_count": 2,
   "id": "532b87fe",
   "metadata": {},
   "outputs": [],
   "source": [
    "import nltk\n",
    "#word2vec = is technique in NLP that uses a neural network to generate vector representation in words\n",
    "from gensim.models import Word2Vec\n",
    "#stopwords=is common words do not carry significant meaning in text.\n",
    "from nltk.corpus import stopwords\n",
    "#for random\n",
    "import re"
   ]
  },
  {
   "cell_type": "code",
   "execution_count": 3,
   "id": "4c8dffe5",
   "metadata": {},
   "outputs": [],
   "source": [
    "paragraph = \"\"\"Sabeena met Homai to shoot her documentary Three Women and a Camera in 1997, \n",
    "                and ended up uncovering a feminist history of Indian nation building rarely seen, never heard, \n",
    "                and lovingly told in the Camera Chronicles of Homai Vyarawalla. “Homai lived a quiet retired \n",
    "                life for 23 years and she took all the success in the same philosophical way as she took the anonymity,” \n",
    "                says Sabeena, eight years after Homai’s passing. “The film was only the beginning of a long association \n",
    "                with Homai. We wrote letters to each other, I would travel to Baroda every few month to look at her \n",
    "                photographs and to try and understand the person behind these images.\"\"\""
   ]
  },
  {
   "cell_type": "code",
   "execution_count": 4,
   "id": "32f53589",
   "metadata": {},
   "outputs": [],
   "source": [
    "# Preprocessing the data\n",
    "text = re.sub(r'\\[[0-9]*\\]',' ',paragraph)\n",
    "text = re.sub(r'\\s+',' ',text)\n",
    "text = text.lower()\n",
    "text = re.sub(r'\\d',' ',text)\n",
    "text = re.sub(r'\\s+',' ',text)"
   ]
  },
  {
   "cell_type": "code",
   "execution_count": 5,
   "id": "b6d71d36",
   "metadata": {},
   "outputs": [
    {
     "data": {
      "text/plain": [
       "'sabeena met homai to shoot her documentary three women and a camera in , and ended up uncovering a feminist history of indian nation building rarely seen, never heard, and lovingly told in the camera chronicles of homai vyarawalla. “homai lived a quiet retired life for years and she took all the success in the same philosophical way as she took the anonymity,” says sabeena, eight years after homai’s passing. “the film was only the beginning of a long association with homai. we wrote letters to each other, i would travel to baroda every few month to look at her photographs and to try and understand the person behind these images.'"
      ]
     },
     "execution_count": 5,
     "metadata": {},
     "output_type": "execute_result"
    }
   ],
   "source": [
    "text"
   ]
  },
  {
   "cell_type": "code",
   "execution_count": 6,
   "id": "e448bcc2",
   "metadata": {},
   "outputs": [
    {
     "name": "stderr",
     "output_type": "stream",
     "text": [
      "[nltk_data] Downloading package punkt to\n",
      "[nltk_data]     C:\\Users\\abhij\\AppData\\Roaming\\nltk_data...\n",
      "[nltk_data]   Package punkt is already up-to-date!\n",
      "[nltk_data] Downloading package stopwords to\n",
      "[nltk_data]     C:\\Users\\abhij\\AppData\\Roaming\\nltk_data...\n",
      "[nltk_data]   Package stopwords is already up-to-date!\n"
     ]
    }
   ],
   "source": [
    "# Preparing the dataset\n",
    "import nltk\n",
    "nltk.download('punkt')\n",
    "nltk.download('stopwords')\n",
    "#tokenizer= the process of breaking down a sequence of text into smaller units called tokens, such as words, characters, or subwords.\n",
    "sentences = nltk.sent_tokenize(text)\n",
    "sentences = [nltk.word_tokenize(sentence) for sentence in sentences]\n",
    "for i in range(len(sentences)):\n",
    "    sentences[i] = [word for word in sentences[i] if word not in stopwords.words('english')]"
   ]
  },
  {
   "cell_type": "code",
   "execution_count": 7,
   "id": "752649f1",
   "metadata": {},
   "outputs": [
    {
     "data": {
      "text/plain": [
       "[['sabeena',\n",
       "  'met',\n",
       "  'homai',\n",
       "  'shoot',\n",
       "  'documentary',\n",
       "  'three',\n",
       "  'women',\n",
       "  'camera',\n",
       "  ',',\n",
       "  'ended',\n",
       "  'uncovering',\n",
       "  'feminist',\n",
       "  'history',\n",
       "  'indian',\n",
       "  'nation',\n",
       "  'building',\n",
       "  'rarely',\n",
       "  'seen',\n",
       "  ',',\n",
       "  'never',\n",
       "  'heard',\n",
       "  ',',\n",
       "  'lovingly',\n",
       "  'told',\n",
       "  'camera',\n",
       "  'chronicles',\n",
       "  'homai',\n",
       "  'vyarawalla',\n",
       "  '.'],\n",
       " ['“',\n",
       "  'homai',\n",
       "  'lived',\n",
       "  'quiet',\n",
       "  'retired',\n",
       "  'life',\n",
       "  'years',\n",
       "  'took',\n",
       "  'success',\n",
       "  'philosophical',\n",
       "  'way',\n",
       "  'took',\n",
       "  'anonymity',\n",
       "  ',',\n",
       "  '”',\n",
       "  'says',\n",
       "  'sabeena',\n",
       "  ',',\n",
       "  'eight',\n",
       "  'years',\n",
       "  'homai',\n",
       "  '’',\n",
       "  'passing',\n",
       "  '.'],\n",
       " ['“', 'film', 'beginning', 'long', 'association', 'homai', '.'],\n",
       " ['wrote',\n",
       "  'letters',\n",
       "  ',',\n",
       "  'would',\n",
       "  'travel',\n",
       "  'baroda',\n",
       "  'every',\n",
       "  'month',\n",
       "  'look',\n",
       "  'photographs',\n",
       "  'try',\n",
       "  'understand',\n",
       "  'person',\n",
       "  'behind',\n",
       "  'images',\n",
       "  '.']]"
      ]
     },
     "execution_count": 7,
     "metadata": {},
     "output_type": "execute_result"
    }
   ],
   "source": [
    "sentences"
   ]
  },
  {
   "cell_type": "code",
   "execution_count": 8,
   "id": "a156d628",
   "metadata": {},
   "outputs": [],
   "source": [
    "# Training the Word2Vec model\n",
    "model = Word2Vec(sentences,min_count=1)\n",
    "words = model.wv.index_to_key"
   ]
  },
  {
   "cell_type": "code",
   "execution_count": 9,
   "id": "911a3fbd",
   "metadata": {},
   "outputs": [
    {
     "data": {
      "text/plain": [
       "[',',\n",
       " 'homai',\n",
       " '.',\n",
       " 'sabeena',\n",
       " 'years',\n",
       " 'took',\n",
       " '“',\n",
       " 'camera',\n",
       " 'rarely',\n",
       " 'vyarawalla',\n",
       " 'chronicles',\n",
       " 'told',\n",
       " 'lovingly',\n",
       " 'heard',\n",
       " 'never',\n",
       " 'seen',\n",
       " 'nation',\n",
       " 'building',\n",
       " 'quiet',\n",
       " 'indian',\n",
       " 'history',\n",
       " 'feminist',\n",
       " 'uncovering',\n",
       " 'ended',\n",
       " 'women',\n",
       " 'three',\n",
       " 'documentary',\n",
       " 'shoot',\n",
       " 'met',\n",
       " 'lived',\n",
       " 'images',\n",
       " 'retired',\n",
       " 'behind',\n",
       " 'person',\n",
       " 'understand',\n",
       " 'try',\n",
       " 'photographs',\n",
       " 'look',\n",
       " 'month',\n",
       " 'every',\n",
       " 'baroda',\n",
       " 'travel',\n",
       " 'would',\n",
       " 'letters',\n",
       " 'wrote',\n",
       " 'association',\n",
       " 'long',\n",
       " 'beginning',\n",
       " 'film',\n",
       " 'passing',\n",
       " '’',\n",
       " 'eight',\n",
       " 'says',\n",
       " '”',\n",
       " 'anonymity',\n",
       " 'way',\n",
       " 'philosophical',\n",
       " 'success',\n",
       " 'life']"
      ]
     },
     "execution_count": 9,
     "metadata": {},
     "output_type": "execute_result"
    }
   ],
   "source": [
    "words"
   ]
  },
  {
   "cell_type": "code",
   "execution_count": 11,
   "id": "77ed3560",
   "metadata": {},
   "outputs": [
    {
     "data": {
      "text/plain": [
       "[('heard', 0.253325879573822),\n",
       " ('documentary', 0.20109164714813232),\n",
       " ('month', 0.19567574560642242),\n",
       " ('images', 0.17568980157375336),\n",
       " ('.', 0.17093561589717865),\n",
       " ('lovingly', 0.1514149308204651),\n",
       " ('look', 0.1468350887298584),\n",
       " ('took', 0.13878263533115387),\n",
       " ('nation', 0.10980597138404846),\n",
       " ('’', 0.10632000118494034)]"
      ]
     },
     "execution_count": 11,
     "metadata": {},
     "output_type": "execute_result"
    }
   ],
   "source": [
    "# # Finding Word Vectors\n",
    "vector = model.wv['lived']\n",
    "\n",
    "# Most similar words\n",
    "similar = model.wv.most_similar('years')\n",
    "similar"
   ]
  },
  {
   "cell_type": "code",
   "execution_count": 12,
   "id": "6a46e441",
   "metadata": {},
   "outputs": [
    {
     "data": {
      "text/plain": [
       "array([-4.2774114e-03, -9.3322387e-03, -1.8776265e-03, -3.7073630e-03,\n",
       "        9.1005927e-03,  2.9353574e-03, -5.9731258e-03, -3.3520309e-03,\n",
       "       -9.9041266e-03,  1.9369711e-03, -3.9879768e-03, -2.7118893e-03,\n",
       "        5.1751044e-03,  7.6036979e-03,  4.3870932e-03, -6.8206144e-03,\n",
       "        6.7020818e-03, -9.6251555e-03, -6.9812667e-03, -8.0062943e-03,\n",
       "       -2.2559033e-03,  4.7633582e-04, -3.7700110e-03,  1.8408245e-03,\n",
       "        9.2082219e-03,  6.6787819e-03, -1.0599227e-03,  9.0935836e-03,\n",
       "        1.5604590e-03, -1.9751890e-03, -6.5922407e-03,  6.4734011e-03,\n",
       "       -9.0677878e-03, -1.8987403e-03,  7.6913573e-03, -2.5878986e-03,\n",
       "        1.6040631e-03, -7.3452857e-03,  4.9774679e-03,  7.3683360e-03,\n",
       "       -9.3065593e-03, -3.2801330e-03,  7.8992117e-03,  2.9338871e-03,\n",
       "        1.6326210e-05,  3.4538726e-04, -9.8738866e-03,  9.9331476e-03,\n",
       "       -1.9938170e-03, -4.8886361e-03,  2.7472621e-03,  1.0237164e-03,\n",
       "       -5.9333742e-03,  5.7904208e-03, -2.5024200e-03, -6.1751571e-03,\n",
       "        7.2378633e-03,  6.4635887e-03,  8.8240122e-03,  1.1640844e-03,\n",
       "        5.0869095e-04, -7.9281544e-03,  4.6542771e-03,  9.3662823e-03,\n",
       "       -6.8268686e-04, -1.7546962e-03, -3.8148428e-03, -4.8550806e-04,\n",
       "       -7.6219221e-03,  5.6888205e-03,  1.4926840e-03,  9.2942612e-03,\n",
       "       -6.4185020e-03, -5.0878357e-03, -6.2250476e-03, -7.2795223e-03,\n",
       "        2.7604506e-03,  4.8975851e-03,  1.3355092e-03,  3.5386709e-03,\n",
       "       -9.3959160e-03, -1.0713717e-03, -7.7458909e-03,  2.9590842e-03,\n",
       "       -2.6819934e-03,  8.8808686e-03, -3.4298874e-03,  6.8378313e-03,\n",
       "        4.1138143e-03,  1.3603371e-03, -3.3658052e-05,  8.1730373e-03,\n",
       "        2.3623891e-03,  8.2624210e-03,  3.3377772e-03,  5.4250741e-03,\n",
       "        5.1040710e-03, -7.6302597e-03, -5.7893354e-03,  1.2382726e-03],\n",
       "      dtype=float32)"
      ]
     },
     "execution_count": 12,
     "metadata": {},
     "output_type": "execute_result"
    }
   ],
   "source": [
    "vector"
   ]
  },
  {
   "cell_type": "code",
   "execution_count": 14,
   "id": "a47eaaac",
   "metadata": {},
   "outputs": [
    {
     "data": {
      "text/plain": [
       "array([-0.00250674, -0.00589105,  0.00747721, -0.00726272, -0.00896868,\n",
       "       -0.00179275, -0.00834823,  0.00040452,  0.00195258, -0.00247698,\n",
       "       -0.00644252, -0.00033428, -0.00109812,  0.00348681,  0.00812234,\n",
       "        0.0058582 ,  0.00844983, -0.00896185,  0.00943816, -0.00237948,\n",
       "        0.0087103 ,  0.00238786,  0.00359822, -0.00958645, -0.00949845,\n",
       "        0.00898487, -0.00289364,  0.00280647,  0.00641605, -0.00030517,\n",
       "        0.00971553, -0.00104034, -0.0096538 , -0.0070724 , -0.00104806,\n",
       "       -0.00866515,  0.00742219,  0.0036173 , -0.00876732,  0.00848162,\n",
       "        0.00893402,  0.00585452,  0.00691538, -0.00957274,  0.00051302,\n",
       "       -0.00922057, -0.00367477,  0.0002418 , -0.00026766,  0.00147206,\n",
       "        0.00327994,  0.00212105,  0.00531331,  0.00750766, -0.00588747,\n",
       "        0.00795189,  0.00600498,  0.00978653,  0.00463387, -0.00332551,\n",
       "       -0.00374906, -0.00064397, -0.00164688,  0.009877  ,  0.0011227 ,\n",
       "        0.00402146,  0.00340338, -0.00883137,  0.00670722,  0.00819275,\n",
       "       -0.00166513,  0.00234063, -0.0064587 , -0.0061149 ,  0.00823136,\n",
       "       -0.00305133,  0.00675947,  0.00154513, -0.00199009,  0.00305377,\n",
       "       -0.0040508 , -0.00179199,  0.00136935,  0.00489232, -0.00140721,\n",
       "        0.00064069, -0.00792008,  0.00949192, -0.0087587 ,  0.00706647,\n",
       "        0.00391094, -0.00698873, -0.00529119, -0.00793539, -0.00511371,\n",
       "        0.00707246,  0.00964235,  0.00216313,  0.00063434,  0.00953197],\n",
       "      dtype=float32)"
      ]
     },
     "execution_count": 14,
     "metadata": {},
     "output_type": "execute_result"
    }
   ],
   "source": [
    "vector1 = model.wv['ended']\n",
    "vector1"
   ]
  },
  {
   "cell_type": "code",
   "execution_count": 15,
   "id": "f0a3e97a",
   "metadata": {},
   "outputs": [],
   "source": [
    "similar = model.wv.most_similar('indian')"
   ]
  },
  {
   "cell_type": "code",
   "execution_count": 16,
   "id": "56c7b183",
   "metadata": {},
   "outputs": [
    {
     "data": {
      "text/plain": [
       "[('camera', 0.31969645619392395),\n",
       " ('met', 0.18978363275527954),\n",
       " ('never', 0.1633490025997162),\n",
       " ('philosophical', 0.14683544635772705),\n",
       " ('understand', 0.12808866798877716),\n",
       " ('three', 0.12749908864498138),\n",
       " ('says', 0.1231110617518425),\n",
       " ('look', 0.12215256690979004),\n",
       " ('“', 0.11113136261701584),\n",
       " ('documentary', 0.11036865413188934)]"
      ]
     },
     "execution_count": 16,
     "metadata": {},
     "output_type": "execute_result"
    }
   ],
   "source": [
    "similar"
   ]
  },
  {
   "cell_type": "code",
   "execution_count": 17,
   "id": "3ff1c66b",
   "metadata": {},
   "outputs": [
    {
     "data": {
      "text/plain": [
       "array([-4.2774114e-03, -9.3322387e-03, -1.8776265e-03, -3.7073630e-03,\n",
       "        9.1005927e-03,  2.9353574e-03, -5.9731258e-03, -3.3520309e-03,\n",
       "       -9.9041266e-03,  1.9369711e-03, -3.9879768e-03, -2.7118893e-03,\n",
       "        5.1751044e-03,  7.6036979e-03,  4.3870932e-03, -6.8206144e-03,\n",
       "        6.7020818e-03, -9.6251555e-03, -6.9812667e-03, -8.0062943e-03,\n",
       "       -2.2559033e-03,  4.7633582e-04, -3.7700110e-03,  1.8408245e-03,\n",
       "        9.2082219e-03,  6.6787819e-03, -1.0599227e-03,  9.0935836e-03,\n",
       "        1.5604590e-03, -1.9751890e-03, -6.5922407e-03,  6.4734011e-03,\n",
       "       -9.0677878e-03, -1.8987403e-03,  7.6913573e-03, -2.5878986e-03,\n",
       "        1.6040631e-03, -7.3452857e-03,  4.9774679e-03,  7.3683360e-03,\n",
       "       -9.3065593e-03, -3.2801330e-03,  7.8992117e-03,  2.9338871e-03,\n",
       "        1.6326210e-05,  3.4538726e-04, -9.8738866e-03,  9.9331476e-03,\n",
       "       -1.9938170e-03, -4.8886361e-03,  2.7472621e-03,  1.0237164e-03,\n",
       "       -5.9333742e-03,  5.7904208e-03, -2.5024200e-03, -6.1751571e-03,\n",
       "        7.2378633e-03,  6.4635887e-03,  8.8240122e-03,  1.1640844e-03,\n",
       "        5.0869095e-04, -7.9281544e-03,  4.6542771e-03,  9.3662823e-03,\n",
       "       -6.8268686e-04, -1.7546962e-03, -3.8148428e-03, -4.8550806e-04,\n",
       "       -7.6219221e-03,  5.6888205e-03,  1.4926840e-03,  9.2942612e-03,\n",
       "       -6.4185020e-03, -5.0878357e-03, -6.2250476e-03, -7.2795223e-03,\n",
       "        2.7604506e-03,  4.8975851e-03,  1.3355092e-03,  3.5386709e-03,\n",
       "       -9.3959160e-03, -1.0713717e-03, -7.7458909e-03,  2.9590842e-03,\n",
       "       -2.6819934e-03,  8.8808686e-03, -3.4298874e-03,  6.8378313e-03,\n",
       "        4.1138143e-03,  1.3603371e-03, -3.3658052e-05,  8.1730373e-03,\n",
       "        2.3623891e-03,  8.2624210e-03,  3.3377772e-03,  5.4250741e-03,\n",
       "        5.1040710e-03, -7.6302597e-03, -5.7893354e-03,  1.2382726e-03],\n",
       "      dtype=float32)"
      ]
     },
     "execution_count": 17,
     "metadata": {},
     "output_type": "execute_result"
    }
   ],
   "source": [
    "vector"
   ]
  },
  {
   "cell_type": "code",
   "execution_count": 18,
   "id": "afc19856",
   "metadata": {},
   "outputs": [],
   "source": [
    "similar = model.wv.most_similar('shoot')"
   ]
  },
  {
   "cell_type": "code",
   "execution_count": 19,
   "id": "26974cfd",
   "metadata": {},
   "outputs": [
    {
     "data": {
      "text/plain": [
       "[('rarely', 0.28554394841194153),\n",
       " ('long', 0.27042141556739807),\n",
       " ('baroda', 0.25976282358169556),\n",
       " ('life', 0.253817617893219),\n",
       " ('homai', 0.18898704648017883),\n",
       " ('images', 0.14256051182746887),\n",
       " ('never', 0.10808977484703064),\n",
       " (',', 0.09968758374452591),\n",
       " ('lovingly', 0.09744007140398026),\n",
       " ('took', 0.09654717892408371)]"
      ]
     },
     "execution_count": 19,
     "metadata": {},
     "output_type": "execute_result"
    }
   ],
   "source": [
    "similar"
   ]
  },
  {
   "cell_type": "code",
   "execution_count": null,
   "id": "9771ea53",
   "metadata": {},
   "outputs": [],
   "source": []
  }
 ],
 "metadata": {
  "kernelspec": {
   "display_name": "Python 3 (ipykernel)",
   "language": "python",
   "name": "python3"
  },
  "language_info": {
   "codemirror_mode": {
    "name": "ipython",
    "version": 3
   },
   "file_extension": ".py",
   "mimetype": "text/x-python",
   "name": "python",
   "nbconvert_exporter": "python",
   "pygments_lexer": "ipython3",
   "version": "3.11.5"
  }
 },
 "nbformat": 4,
 "nbformat_minor": 5
}
